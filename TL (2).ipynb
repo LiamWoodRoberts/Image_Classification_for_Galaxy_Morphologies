{
 "cells": [
  {
   "cell_type": "code",
   "execution_count": 37,
   "metadata": {},
   "outputs": [],
   "source": [
    "import keras\n",
    "import numpy as np\n",
    "from keras.applications import MobileNetV2\n",
    "from keras.datasets import cifar10\n",
    "from keras import models\n",
    "from keras import layers\n",
    "from keras.utils import to_categorical\n",
    "import random\n",
    "from keras.callbacks import EarlyStopping"
   ]
  },
  {
   "cell_type": "code",
   "execution_count": 21,
   "metadata": {},
   "outputs": [],
   "source": [
    "(x_train, y_train), (x_test, y_test) = cifar10.load_data()"
   ]
  },
  {
   "cell_type": "code",
   "execution_count": 3,
   "metadata": {},
   "outputs": [],
   "source": [
    "#take sample\n",
    "trainindex = random.sample(range(0,len(x_train)),8000)\n",
    "testindex = random.sample(range(0,len(x_test)),2000)\n",
    "x_train = x_train[trainindex]\n",
    "y_train = y_train[trainindex]\n",
    "x_test = x_test[testindex]\n",
    "y_test = y_test[testindex]"
   ]
  },
  {
   "cell_type": "code",
   "execution_count": 4,
   "metadata": {},
   "outputs": [
    {
     "name": "stdout",
     "output_type": "stream",
     "text": [
      "[0 1 2 3 4 5 6 7 8 9]\n",
      "[0 1 2 3 4 5 6 7 8 9]\n"
     ]
    }
   ],
   "source": [
    "print(np.unique(y_train))\n",
    "print(np.unique(y_test))"
   ]
  },
  {
   "cell_type": "code",
   "execution_count": 22,
   "metadata": {},
   "outputs": [
    {
     "name": "stdout",
     "output_type": "stream",
     "text": [
      "(50000, 10)\n",
      "(10000, 10)\n"
     ]
    }
   ],
   "source": [
    "y_train = to_categorical(y_train,num_classes=10)\n",
    "y_test = to_categorical(y_test,num_classes=10)\n",
    "print(y_train.shape)\n",
    "print(y_test.shape)"
   ]
  },
  {
   "cell_type": "code",
   "execution_count": 6,
   "metadata": {},
   "outputs": [
    {
     "name": "stdout",
     "output_type": "stream",
     "text": [
      "(8000, 96, 96, 3)\n",
      "(2000, 96, 96, 3)\n"
     ]
    }
   ],
   "source": [
    "def padder(images,width,height):\n",
    "    padw = int((width-images.shape[1])/2)\n",
    "    padh = int((height-images.shape[2])/2)\n",
    "    padded_images = np.pad(images,((0,0),(padw,padw),(padh,padh),(0,0)),'constant')\n",
    "    return padded_images\n",
    "\n",
    "x_train = padder(x_train,96,96)\n",
    "x_test = padder(x_test,96,96)\n",
    "print(x_train.shape)\n",
    "print(x_test.shape)"
   ]
  },
  {
   "cell_type": "code",
   "execution_count": 7,
   "metadata": {},
   "outputs": [],
   "source": [
    "#Scale Images\n",
    "x_train = x_train/255\n",
    "x_test = x_test/255"
   ]
  },
  {
   "cell_type": "code",
   "execution_count": 8,
   "metadata": {},
   "outputs": [],
   "source": [
    "conv_base = MobileNetV2(weights='imagenet',\n",
    "                  include_top=False,\n",
    "                  input_shape=(96, 96, 3))"
   ]
  },
  {
   "cell_type": "code",
   "execution_count": 9,
   "metadata": {},
   "outputs": [
    {
     "name": "stdout",
     "output_type": "stream",
     "text": [
      "CPU times: user 19min 52s, sys: 1min 16s, total: 21min 9s\n",
      "Wall time: 12min 29s\n"
     ]
    }
   ],
   "source": [
    "%%time\n",
    "x_trainMN = conv_base.predict(x_train)\n",
    "x_testMN = conv_base.predict(x_test)\n",
    "x_trainMN = np.reshape(x_trainMN,(x_train.shape[0],3*3*1280))\n",
    "x_testMN = np.reshape(x_testMN,(x_test.shape[0],3*3*1280))"
   ]
  },
  {
   "cell_type": "code",
   "execution_count": 10,
   "metadata": {},
   "outputs": [],
   "source": [
    "model = models.Sequential()\n",
    "model.add(layers.Dense(256, input_dim = 3*3*1280, activation='relu'))\n",
    "model.add(layers.Dense(10, activation='softmax'))"
   ]
  },
  {
   "cell_type": "code",
   "execution_count": 12,
   "metadata": {},
   "outputs": [
    {
     "name": "stdout",
     "output_type": "stream",
     "text": [
      "Train on 8000 samples, validate on 2000 samples\n",
      "Epoch 1/100\n",
      "8000/8000 [==============================] - 5s 660us/step - loss: 0.6724 - acc: 0.7738 - val_loss: 1.1567 - val_acc: 0.6595\n",
      "Epoch 2/100\n",
      "8000/8000 [==============================] - 4s 551us/step - loss: 0.4386 - acc: 0.8431 - val_loss: 1.0412 - val_acc: 0.6800\n",
      "Epoch 3/100\n",
      "8000/8000 [==============================] - 4s 554us/step - loss: 0.3638 - acc: 0.8678 - val_loss: 1.1008 - val_acc: 0.6800\n",
      "Epoch 4/100\n",
      "8000/8000 [==============================] - 4s 534us/step - loss: 0.3438 - acc: 0.8768 - val_loss: 1.2213 - val_acc: 0.6690\n",
      "Epoch 5/100\n",
      "8000/8000 [==============================] - 4s 541us/step - loss: 0.3191 - acc: 0.8877 - val_loss: 1.3585 - val_acc: 0.6515\n",
      "Epoch 00005: early stopping\n"
     ]
    },
    {
     "data": {
      "text/plain": [
       "<keras.callbacks.History at 0xb23647f60>"
      ]
     },
     "execution_count": 12,
     "metadata": {},
     "output_type": "execute_result"
    }
   ],
   "source": [
    "early_stop = EarlyStopping(monitor='val_loss', \n",
    "                           min_delta=0.001, \n",
    "                           patience=3, \n",
    "                           mode='min', \n",
    "                           verbose=1)\n",
    "\n",
    "model.compile(optimizer='adam',\n",
    "              loss='categorical_crossentropy',\n",
    "              metrics=['accuracy'])\n",
    "\n",
    "model.fit(x_trainMN, y_train, epochs=100, validation_data=(x_testMN,y_test),batch_size=128,callbacks=[early_stop])"
   ]
  },
  {
   "cell_type": "code",
   "execution_count": null,
   "metadata": {},
   "outputs": [],
   "source": [
    "%reset"
   ]
  }
 ],
 "metadata": {
  "kernelspec": {
   "display_name": "Python [conda env:kerasenv]",
   "language": "python",
   "name": "conda-env-kerasenv-py"
  },
  "language_info": {
   "codemirror_mode": {
    "name": "ipython",
    "version": 3
   },
   "file_extension": ".py",
   "mimetype": "text/x-python",
   "name": "python",
   "nbconvert_exporter": "python",
   "pygments_lexer": "ipython3",
   "version": "3.6.6"
  }
 },
 "nbformat": 4,
 "nbformat_minor": 2
}
