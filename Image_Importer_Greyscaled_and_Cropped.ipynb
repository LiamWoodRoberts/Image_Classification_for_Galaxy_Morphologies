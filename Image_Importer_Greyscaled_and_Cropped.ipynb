{
 "cells": [
  {
   "cell_type": "code",
   "execution_count": 10,
   "metadata": {},
   "outputs": [],
   "source": [
    "''' Loads Grey Galaxy Images from Directory and Saves X_train,X_test,y_train,y_test to local directory'''\n",
    "import pandas as pd\n",
    "import numpy as np\n",
    "from skimage.io import imread\n",
    "from sklearn.model_selection import train_test_split \n",
    "from sklearn.preprocessing import StandardScaler,MinMaxScaler"
   ]
  },
  {
   "cell_type": "code",
   "execution_count": 11,
   "metadata": {},
   "outputs": [],
   "source": [
    "number_of_images = 20000"
   ]
  },
  {
   "cell_type": "code",
   "execution_count": 12,
   "metadata": {},
   "outputs": [],
   "source": [
    "#Import Galaxy Labels\n",
    "def label_loader(file):\n",
    "    labels = pd.read_csv(file)\n",
    "    labels.set_index('GalaxyID',inplace = True)\n",
    "    return labels"
   ]
  },
  {
   "cell_type": "code",
   "execution_count": 13,
   "metadata": {},
   "outputs": [],
   "source": [
    "#Import Training Images as flattened np array from:\n",
    "def image_loader(images,y_all):\n",
    "    \n",
    "    num_train_images = images\n",
    "    i = 0\n",
    "    X_orig  =[]\n",
    "    for ID in y_all.index:\n",
    "    \n",
    "        #import image based on Galaxy ID\n",
    "        img = f'/Users/LiamRoberts/desktop/Brainstation/DemoProject/images_training_rev1/{ID}.jpg'\n",
    "        n_uncut= imread(img,as_gray=True)\n",
    "        x,y = n_uncut.shape\n",
    "        #preform image transformations (Crop,transpose,mirror)\n",
    "        n = n_uncut[int(0.3*x):int(0.7*x),int(0.3*y):int(0.7*y)]  \n",
    "\n",
    "        #Append X_train values\n",
    "        X_orig.append(n)\n",
    "\n",
    "        #Break Loop once it reaches desired number of images\n",
    "        i += 1\n",
    "        if i == num_train_images:\n",
    "            break\n",
    "    \n",
    "    X_orig = np.float32(X_orig).reshape((int(num_train_images),int(x*0.4),int(y*0.4),1)) \n",
    "    \n",
    "    y = y_all.values[0:num_train_images]\n",
    "    X = X_orig\n",
    "        \n",
    "    return X,y"
   ]
  },
  {
   "cell_type": "code",
   "execution_count": 14,
   "metadata": {},
   "outputs": [],
   "source": [
    "def format_images(X,y,scale=True):\n",
    "    #Train Test Split\n",
    "    X_train, X_test, y_train, y_test = train_test_split(X,y,test_size=0.2,shuffle=True)\n",
    "    train_shape = X_train.shape\n",
    "    test_shape = X_test.shape\n",
    "    \n",
    "    #Unroll X\n",
    "    X_train = X_train.reshape(X_train.shape[0],X_train.shape[1]*X_train.shape[2])\n",
    "    X_test = X_test.reshape(X_test.shape[0],X_test.shape[1]*X_test.shape[2])\n",
    "    \n",
    "    #Standard Scale X\n",
    "    scaler = StandardScaler()\n",
    "    scaler.fit(X_train)\n",
    "    X_train = scaler.transform(X_train)\n",
    "    X_test = scaler.transform(X_test)\n",
    "    \n",
    "    #Reshape X\n",
    "    X_train = X_train.reshape(train_shape)\n",
    "    X_test = X_test.reshape(test_shape)\n",
    "    \n",
    "    print('X_train shape:',X_train.shape)\n",
    "    print('X_test shape:',X_test.shape)\n",
    "    print('y_train shape:',y_train.shape)\n",
    "    print('y_test shape:',y_test.shape)\n",
    "    \n",
    "    return X_train, X_test, y_train, y_test"
   ]
  },
  {
   "cell_type": "code",
   "execution_count": 15,
   "metadata": {},
   "outputs": [],
   "source": [
    "#Write Files for use in model\n",
    "def save_values(X_train,X_test,y_train,y_test):\n",
    "    np.save('y_train_greyscaled',y_train)\n",
    "    np.save('y_test_greyscaled',y_test)\n",
    "    np.save('X_train_greyscaled',X_train)\n",
    "    np.save('X_test_greyscaled',X_test)\n",
    "    return"
   ]
  },
  {
   "cell_type": "code",
   "execution_count": 16,
   "metadata": {},
   "outputs": [],
   "source": [
    "labels = label_loader('training_solutions_rev1.csv')"
   ]
  },
  {
   "cell_type": "code",
   "execution_count": 17,
   "metadata": {},
   "outputs": [
    {
     "name": "stdout",
     "output_type": "stream",
     "text": [
      "X_train shape: (16000, 169, 169, 1)\n",
      "X_test shape: (4000, 169, 169, 1)\n",
      "y_train shape: (16000, 37)\n",
      "y_test shape: (4000, 37)\n"
     ]
    }
   ],
   "source": [
    "X,y = image_loader(number_of_images,labels)\n",
    "X_train, X_test, y_train, y_test = format_images(X,y)"
   ]
  },
  {
   "cell_type": "code",
   "execution_count": 18,
   "metadata": {},
   "outputs": [],
   "source": [
    "save_values(X_train,X_test,y_train,y_test)"
   ]
  }
 ],
 "metadata": {
  "kernelspec": {
   "display_name": "demoproject",
   "language": "python",
   "name": "demoproject"
  },
  "language_info": {
   "codemirror_mode": {
    "name": "ipython",
    "version": 3
   },
   "file_extension": ".py",
   "mimetype": "text/x-python",
   "name": "python",
   "nbconvert_exporter": "python",
   "pygments_lexer": "ipython3",
   "version": "3.6.5"
  }
 },
 "nbformat": 4,
 "nbformat_minor": 2
}
